{
 "cells": [
  {
   "cell_type": "markdown",
   "metadata": {},
   "source": [
    "# Assignment03 20160044 Shin Dong-Ha"
   ]
  },
  {
   "cell_type": "markdown",
   "metadata": {},
   "source": [
    "importing Necessary Libraries"
   ]
  },
  {
   "cell_type": "code",
   "execution_count": 109,
   "metadata": {
    "scrolled": true
   },
   "outputs": [],
   "source": [
    "import random\n",
    "import math\n",
    "import matplotlib.pyplot as plt\n",
    "import matplotlib.cm as cm\n",
    "import numpy as np"
   ]
  },
  {
   "cell_type": "markdown",
   "metadata": {},
   "source": [
    "class Point definition"
   ]
  },
  {
   "cell_type": "code",
   "execution_count": 110,
   "metadata": {
    "scrolled": true
   },
   "outputs": [],
   "source": [
    "class Point:\n",
    "    x = float()\n",
    "    y = float()\n",
    "    def __init__(self, a, b):\n",
    "        self.x = a\n",
    "        self.y = b"
   ]
  },
  {
   "cell_type": "markdown",
   "metadata": {},
   "source": [
    "Static variables(lists) Declaration"
   ]
  },
  {
   "cell_type": "code",
   "execution_count": 111,
   "metadata": {
    "scrolled": true
   },
   "outputs": [],
   "source": [
    "points = list()\n",
    "centers = list()\n",
    "groups = list()"
   ]
  },
  {
   "cell_type": "markdown",
   "metadata": {},
   "source": [
    "DEFINE FUNCTION : Generate Point Clusters (Initialize 'points' before use it)"
   ]
  },
  {
   "cell_type": "code",
   "execution_count": 112,
   "metadata": {
    "scrolled": true
   },
   "outputs": [],
   "source": [
    "def generatePointClusters(numofClusters, numofPoints, clusterDiffusion, pointDiffusion):\n",
    "    \n",
    "    for x in range(numofClusters):\n",
    "        xoffset = random.random()\n",
    "        yoffset = random.random()\n",
    "        for y in range(numofPoints):\n",
    "            points.append(Point(random.random()*pointDiffusion + xoffset*clusterDiffusion, random.random()*pointDiffusion + yoffset*clusterDiffusion))\n",
    "            "
   ]
  },
  {
   "cell_type": "markdown",
   "metadata": {},
   "source": [
    "DEFINE FUNCTION : Compute Distance"
   ]
  },
  {
   "cell_type": "code",
   "execution_count": 113,
   "metadata": {
    "scrolled": true
   },
   "outputs": [],
   "source": [
    "def computeDistance(a, b):\n",
    "    result = math.sqrt(math.pow(((a.x) - (b.x)), 2) + math.pow(((a.y) - (b.y)), 2))\n",
    "    \n",
    "    return result"
   ]
  },
  {
   "cell_type": "markdown",
   "metadata": {},
   "source": [
    "DEFINE FUNCTION : Visualize Init Data"
   ]
  },
  {
   "cell_type": "code",
   "execution_count": 114,
   "metadata": {},
   "outputs": [],
   "source": [
    "def visInitData(point_list, centerlist):\n",
    "\n",
    "    # Create the plot object\n",
    "    _, ax = plt.subplots()\n",
    "    for center in list(centerlist):\n",
    "        ax.scatter(center.x, center.y, s = 50, color = \"k\", alpha = 1)\n",
    "        \n",
    "    for point in list(point_list):\n",
    "        ax.scatter(point.x, point.y, s = 10, color = \"r\", alpha = 0.75)\n",
    "\n",
    "\n",
    "    # Label the axes and provide a title\n",
    "    ax.set_title(\"Input Data\")\n",
    "    ax.set_xlabel(\"x\")\n",
    "    ax.set_ylabel(\"y\")"
   ]
  },
  {
   "cell_type": "markdown",
   "metadata": {},
   "source": [
    "DEFINE FUNCTION : Visualize Result Data"
   ]
  },
  {
   "cell_type": "code",
   "execution_count": 115,
   "metadata": {
    "scrolled": true
   },
   "outputs": [],
   "source": [
    "def visResultData(grouplist):\n",
    "\n",
    "    i = 0\n",
    "    j = 0\n",
    "\n",
    "    colors = cm.rainbow(np.linspace(0, 1, len(centers)))\n",
    "    _, ax = plt.subplots()\n",
    "    for group in list(grouplist):\n",
    "        \n",
    "        ax.scatter(centers[i].x, centers[i].y, s = 50, color = \"k\", alpha = 1)\n",
    "        for v in list(group):\n",
    "            ax.scatter(v.x, v.y, s = 10, c = colors[i], alpha = 1)\n",
    "            \n",
    "        i += 1    \n",
    "            \n",
    "        # Label the axes and provide a title\n",
    "        ax.set_title(\"Group Data\")\n",
    "        ax.set_xlabel(\"x\")\n",
    "        ax.set_ylabel(\"y\")\n",
    "    "
   ]
  },
  {
   "cell_type": "markdown",
   "metadata": {},
   "source": [
    "DEFINE FUNCTION : Decide Center (Initialize 'centers list' before use it)"
   ]
  },
  {
   "cell_type": "code",
   "execution_count": 116,
   "metadata": {
    "scrolled": true
   },
   "outputs": [],
   "source": [
    "def decideCenter(numofClusters):\n",
    "    \n",
    "    for v in range(numofClusters):\n",
    "            centers.append(points[v])\n"
   ]
  },
  {
   "cell_type": "markdown",
   "metadata": {},
   "source": [
    "DEFINE FUNCTION : Decide Group (Initialize 'groups list' before use it)"
   ]
  },
  {
   "cell_type": "code",
   "execution_count": 117,
   "metadata": {
    "scrolled": true
   },
   "outputs": [],
   "source": [
    "def decideGroup(point):\n",
    "    min = computeDistance(centers[0], point)\n",
    "    group = 0\n",
    "    i = 0\n",
    "    for center in list(centers):\n",
    "        if min > computeDistance(center, point):\n",
    "            min = computeDistance(center, point)\n",
    "            group = i\n",
    "        i += 1\n",
    "    groups[group].append(point)\n",
    "\n",
    "    return min*min"
   ]
  },
  {
   "cell_type": "markdown",
   "metadata": {},
   "source": [
    "DEFINE FUNCTION : Relocating Centers"
   ]
  },
  {
   "cell_type": "code",
   "execution_count": 118,
   "metadata": {
    "scrolled": true
   },
   "outputs": [],
   "source": [
    "def relocateCenter(centerlist, grouplist):\n",
    "    \n",
    "    centerofX = float()\n",
    "    centerofY = float()\n",
    "    numofPoint = int()\n",
    "    numofCenter = len(centerlist)\n",
    "    check = 0\n",
    "    \n",
    "    for count in range(numofCenter):\n",
    "        centerofX = 0\n",
    "        centerofY = 0\n",
    "        numofPoint = 0\n",
    "        for point in list(grouplist[count]):\n",
    "            centerofX += point.x\n",
    "            centerofY += point.y\n",
    "            numofPoint += 1\n",
    "        if numofPoint == 0:\n",
    "            return -1\n",
    "            \n",
    "        centerofX /= numofPoint\n",
    "        centerofY /= numofPoint\n",
    "        if centerlist[count].x != centerofX:\n",
    "            centerlist[count].x = centerofX\n",
    "            check = 1\n",
    "        if centerlist[count].y != centerofY:\n",
    "            centerlist[count].y = centerofY\n",
    "            check = 1\n",
    "        \n",
    "    return check"
   ]
  },
  {
   "cell_type": "markdown",
   "metadata": {},
   "source": [
    "Main Function"
   ]
  },
  {
   "cell_type": "code",
   "execution_count": 119,
   "metadata": {
    "scrolled": false
   },
   "outputs": [
    {
     "name": "stdout",
     "output_type": "stream",
     "text": [
      "1 th sum of energy : 503.2628317121934\n",
      "2 th sum of energy : 45.37484864306611\n",
      "3 th sum of energy : 9.963899153846146\n",
      "4 th sum of energy : 9.881524578805978\n",
      "5 th sum of energy : 9.881331375925203\n",
      "6 th sum of energy : 9.881330918031889\n",
      "7 th sum of energy : 9.881330916932495\n",
      "8 th sum of energy : 9.881330916929816\n",
      "9 th sum of energy : 9.881330916929802\n",
      "10 th sum of energy : 9.881330916929812\n",
      "11 th sum of energy : 9.881330916929807\n",
      "12 th sum of energy : 9.881330916929809\n",
      "13 th sum of energy : 9.881330916929805\n",
      "14 th sum of energy : 9.88133091692981\n",
      "15 th sum of energy : 9.88133091692981\n",
      "Ended at 15 th try\n"
     ]
    },
    {
     "data": {
      "image/png": "[encoded data removed]",
      "text/plain": [
       "<Figure size 432x288 with 1 Axes>"
      ]
     },
     "metadata": {},
     "output_type": "display_data"
    },
    {
     "data": {
      "image/png": "[encoded data removed]",
      "text/plain": [
       "<Figure size 432x288 with 1 Axes>"
      ]
     },
     "metadata": {},
     "output_type": "display_data"
    }
   ],
   "source": [
    "##CHANGE THIS VALUE TO DECIDE CLUSTER NUMBER\n",
    "clusternum = 3\n",
    "\n",
    "##CHANGE THIS VALUE TO DECIDE POINT NUMBER\n",
    "pointnum = 20\n",
    "\n",
    "##CHANGE THIS VALUE TO DECIDE HOW MUCH CLUSTERS GENERATED FAR AWAY FROM EACH OTHER\n",
    "clusterdiffusion = 7\n",
    "\n",
    "##CHANGE THIS VALUE TO DECIDE HOW MUCH POINTS GENERATED FAR AWAY FROM EACH OTHER\n",
    "pointdiffusion = 1\n",
    "\n",
    "\n",
    "############################# FUNCTION IMPLEMENTATION #############################\n",
    "\n",
    "#Initialize lists as empty list\n",
    "del points[:]\n",
    "\n",
    "#generate clusters and points\n",
    "generatePointClusters(clusternum, pointnum, clusterdiffusion, pointdiffusion)\n",
    "\n",
    "#declare while condition variable and counting variable\n",
    "checker = 1\n",
    "counter = 0\n",
    "energy_sum = 0\n",
    "\n",
    "del centers[:]\n",
    "decideCenter(clusternum)\n",
    "\n",
    "#visualize input data(generated data)\n",
    "visInitData(points, centers)\n",
    "\n",
    "#loop until the energy becomes the minimum value\n",
    "while checker != 0:\n",
    "    energy_sum = 0\n",
    "    del groups[:]\n",
    "    \n",
    "    for center in list(centers):\n",
    "            groups.append([])\n",
    "            \n",
    "    for point in list(points):\n",
    "        energy_sum += decideGroup(point)\n",
    "    \n",
    "    checker = relocateCenter(centers, groups)\n",
    "    counter += 1\n",
    "    #print Sum of Energy for each iteration\n",
    "    print(counter,\"th sum of energy :\", energy_sum)\n",
    "\n",
    "#visualize result data\n",
    "visResultData(groups)\n",
    "\n",
    "#print how many time the loop(k-means algorithm) worked\n",
    "print(\"Ended at\",counter,\"th try\")"
   ]
  }
 ],
 "metadata": {
  "kernelspec": {
   "display_name": "Python 3",
   "language": "python",
   "name": "python3"
  },
  "language_info": {
   "codemirror_mode": {
    "name": "ipython",
    "version": 3
   },
   "file_extension": ".py",
   "mimetype": "text/x-python",
   "name": "python",
   "nbconvert_exporter": "python",
   "pygments_lexer": "ipython3",
   "version": "3.6.5"
  }
 },
 "nbformat": 4,
 "nbformat_minor": 2
}
